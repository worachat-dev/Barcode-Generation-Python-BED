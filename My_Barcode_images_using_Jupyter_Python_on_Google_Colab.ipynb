{
  "cells": [
    {
      "cell_type": "markdown",
      "source": [
        "## Generating Barcode Images with Python on Google Colab by Worachat Wannawong, Ph.D.\n",
        "\n",
        "This guide will show you how to create barcode images using Python libraries in a Jupyter Notebook on Google Colab.\n",
        "\n",
        "**1. Setting Up the Environment:**\n",
        "\n",
        "* Open a new Jupyter Notebook in Google Colab.\n",
        "* Install the required libraries within the first code cell:"
      ],
      "metadata": {
        "id": "5Srpe-X46iN6"
      }
    },
    {
      "cell_type": "code",
      "source": [
        "!pip install python-barcode pillow"
      ],
      "outputs": [
        {
          "output_type": "stream",
          "name": "stdout",
          "text": [
            "Collecting python-barcode\n",
            "  Downloading python_barcode-0.15.1-py3-none-any.whl.metadata (2.3 kB)\n",
            "Requirement already satisfied: pillow in /usr/local/lib/python3.10/dist-packages (9.4.0)\n",
            "Downloading python_barcode-0.15.1-py3-none-any.whl (212 kB)\n",
            "\u001b[?25l   \u001b[90m━━━━━━━━━━━━━━━━━━━━━━━━━━━━━━━━━━━━━━━━\u001b[0m \u001b[32m0.0/213.0 kB\u001b[0m \u001b[31m?\u001b[0m eta \u001b[36m-:--:--\u001b[0m\r\u001b[2K   \u001b[90m━━━━━━━━━━━━━━━━━━━━━━━━━━━━━━━━━━━━━━━━\u001b[0m \u001b[32m213.0/213.0 kB\u001b[0m \u001b[31m9.4 MB/s\u001b[0m eta \u001b[36m0:00:00\u001b[0m\n",
            "\u001b[?25hInstalling collected packages: python-barcode\n",
            "Successfully installed python-barcode-0.15.1\n"
          ]
        }
      ],
      "execution_count": 1,
      "metadata": {
        "colab": {
          "base_uri": "https://localhost:8080/"
        },
        "id": "k1xdkUjo6iN8",
        "outputId": "b312aea0-89b2-47e0-ad8e-267c08281bce"
      }
    },
    {
      "cell_type": "markdown",
      "source": [
        "* This command installs the `python-barcode` and `Pillow` libraries needed for generating barcodes and manipulating images.\n",
        "\n",
        "**2. Python Script:**\n",
        "\n",
        "Here's the Python code for generating barcode images:"
      ],
      "metadata": {
        "id": "e5Q6LL916iN9"
      }
    },
    {
      "cell_type": "code",
      "source": [
        "import barcode\n",
        "from barcode.writer import ImageWriter\n",
        "from PIL import Image\n",
        "from io import BytesIO\n",
        "\n",
        "def generate_barcode(code_type, code_value):\n",
        "  \"\"\"\n",
        "  Generates a barcode image of the specified type and value.\n",
        "\n",
        "  Args:\n",
        "      code_type: String representing the barcode type (e.g., \"code39\", \"ean13\").\n",
        "      code_value: String containing the data to be encoded in the barcode.\n",
        "\n",
        "  Returns:\n",
        "      PIL Image object of the generated barcode.\n",
        "  \"\"\"\n",
        "  # Get the barcode class based on the code type\n",
        "  BARCODE = barcode.get_barcode_class(code_type)\n",
        "  barcode_instance = BARCODE(code_value, writer=ImageWriter())\n",
        "\n",
        "  # Create a buffer to store the barcode image data\n",
        "  buffer = BytesIO()\n",
        "\n",
        "  # Write the barcode to the buffer with desired module dimensions\n",
        "  barcode_instance.write(buffer, {'module_width': 0.2, 'module_height': 15.0})\n",
        "\n",
        "  # Reset the buffer pointer to the beginning\n",
        "  buffer.seek(0)\n",
        "\n",
        "  # Open the barcode image from the buffer\n",
        "  return Image.open(buffer)\n",
        "\n",
        "# Sample barcode data dictionary\n",
        "barcode_data = {\n",
        "  \"code39\": \"CODE39SAMPLE\",\n",
        "  \"code128\": \"CODE128SAMPLE\",\n",
        "  \"ean13\": \"123456789012\",\n",
        "  \"ean8\": \"1234567\",\n",
        "  \"upc\": \"123456789012\"\n",
        "}\n",
        "\n",
        "# Generate and save barcode images\n",
        "for name, value in barcode_data.items():\n",
        "  img = generate_barcode(name, value)\n",
        "  img.save(f\"{name}.png\")\n",
        "\n",
        "print(\"Barcodes generated and saved as images.\")"
      ],
      "outputs": [
        {
          "output_type": "stream",
          "name": "stdout",
          "text": [
            "Barcodes generated and saved as images.\n"
          ]
        }
      ],
      "execution_count": 2,
      "metadata": {
        "colab": {
          "base_uri": "https://localhost:8080/"
        },
        "id": "u_2WrBxS6iN9",
        "outputId": "2bef2ab3-0ea4-40e2-b5e1-26a55e4e050b"
      }
    },
    {
      "cell_type": "code",
      "source": [],
      "metadata": {
        "id": "erlrDUS-68_z"
      },
      "execution_count": 2,
      "outputs": []
    },
    {
      "cell_type": "markdown",
      "source": [
        "**Explanation:**\n",
        "\n",
        "- The code defines a function `generate_barcode` that takes the barcode type and value as input.\n",
        "- It retrieves the appropriate barcode class and creates an instance with the provided data.\n",
        "- A buffer is used to hold the image data temporarily.\n",
        "- The barcode is written to the buffer with specific settings for module width and height.\n",
        "- Finally, the image is opened from the buffer and saved as a PNG file.\n",
        "\n",
        "**3. Running the Script:**\n",
        "\n",
        "* Copy and paste the entire Python code into a code cell in your Jupyter Notebook.\n",
        "* Run the code cell by pressing `Shift + Enter`.\n",
        "* The script will generate and save barcode images for the specified types in the `barcode_data` dictionary.\n",
        "\n",
        "**4. Output and Usage:**\n",
        "\n",
        "* After running the script, you will find image files named `code39.png`, `code128.png`, and so on in your Colab notebook directory.\n",
        "* These image files represent the generated barcodes. You can use them for inventory management or any other application requiring barcodes.\n",
        "\n",
        "**Note:**\n",
        "\n",
        "* This script provides a sample set of barcode types. You can modify the `barcode_data` dictionary to include different barcode types.\n",
        "* Remember to adjust the module width and height settings as needed depending on your desired barcode size."
      ],
      "metadata": {
        "id": "Y7ZpRfOH6iN9"
      }
    }
  ],
  "metadata": {
    "colab": {
      "provenance": []
    },
    "kernelspec": {
      "display_name": "Python 3",
      "name": "python3"
    }
  },
  "nbformat": 4,
  "nbformat_minor": 0
}